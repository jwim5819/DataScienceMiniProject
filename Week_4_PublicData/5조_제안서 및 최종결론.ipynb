{
 "cells": [
  {
   "cell_type": "markdown",
   "id": "3cf35cbb",
   "metadata": {},
   "source": [
    "<br>\n",
    "<center style='font-size:45px;font-weight:bold'>[ 5조 프로젝트 제안서 ]</center></p><br><br>\n",
    "\n",
    "<p style='font-size:15px'>- 팀&nbsp; 명 : 전쟁그만끝내조</p><br>\n",
    "<p style='font-size:15px'>- 팀&nbsp; 원 : 강혜리, 김도영, 신상언, 이호진, 이혜진, 임재원</p><br>\n",
    "<p style='font-size:15px'>- 주&nbsp; 제 : 러시아·우크라이나 전쟁이 우리나라 경제에 미친 영향 분석</p><br>\n",
    "<p style='font-size:15px'>- 개&nbsp; 요 : 러·우 전쟁이 우리나라 경제에 미친 영향을 알아보고 현재 우리나라가 처한 상황 분석 및 파급되는 영향을 분석해본다.</p><br>\n",
    "<p style='font-size:15px'>- 소주제</p>\n",
    "<p style='font-size:15px'>&nbsp;&nbsp;강혜리 : 전쟁 전후 국내 무역 동향 파악 및 주요 산업과 밀접한 수출입 원자재 분석</p>\n",
    "<p style='font-size:15px'>&nbsp;&nbsp;김도영 : 전쟁으로 인한 우리나라 금리, 물가, 환율, 임금, 취업, 실업의 변화 및 관계 분석</p>\n",
    "<p style='font-size:15px'>&nbsp;&nbsp;신상언 : 전쟁으로 인한 유럽 천연가스 품귀 사태와 천연가스 가격 상승이 우리나라에 미친 영향 분석</p>\n",
    "<p style='font-size:15px'>&nbsp;&nbsp;이호진 : 전쟁이 국내 주식시장에 미친 영향 분석</p>\n",
    "<p style='font-size:15px'>&nbsp;&nbsp;이혜진 : 식량가격지수로 보는 전쟁이 우리나라에 미치는 영향 분석</p>\n",
    "<p style='font-size:15px'>&nbsp;&nbsp;임재원 : 유가 상승이 우리나라 기업들에 미친 영향 분석</p>\n"
   ]
  },
  {
   "cell_type": "markdown",
   "id": "22b442f1",
   "metadata": {},
   "source": [
    "<br>\n",
    "<center style='font-size:45px;font-weight:bold'>[ 최종 결론 ]</center></p><br><br>\n",
    "\n",
    "<p style='font-size:15px'>- (1) 러시아 우크라이나 전쟁을 기점으로  품목별 수출물가 대비 수입물가의 급등으로 국내 무역 적자가 지속될 것으로 보인다. 이같은 물가 상승 부담이 국내외 경제 전반을 압박하며 수출 의존도가 높은 우리 경제 구조상 수출입 원자재와 밀접한 관련이 있는 국내 기업의 피해가 지속될 것으로 예상된다. 특히 국내 기억들의 주요 수출품인 반도체나 가전, 휴대폰 등의 수출 모멘텀은 둔화되는 반면 국제 유가의 지속적 상승으로 석유제품 등의 수입가격에 대한 부담은 갈수록 커질 가능성이 높다. </p><br>\n",
    "<p style='font-size:15px'>- (2) 유가 등 원자재 가격 상승은 물가 상승을 초래하고 소비비상의 위축으로 인플레이션 우려와 급격한 경기 둔화가 동시에 일어나는 스태그플레이션이 현실화 될 것이 우려된다.</p><br>\n",
    "<p style='font-size:15px'>- (3) 원자재 가격상승 리스크에 대한 개별 기업 차원의 대책 수립이 불가능 할 것으로 보이며 경쟁력 회복을 위해 정부의 법인세 감면 등 세제 지원, 수출입 정책 개선 등 실효성 있는 지원책 강화가 필요해보인다. </p><br>\n"
   ]
  },
  {
   "cell_type": "code",
   "execution_count": null,
   "id": "0da7eee6",
   "metadata": {},
   "outputs": [],
   "source": []
  }
 ],
 "metadata": {
  "kernelspec": {
   "display_name": "Python 3 (ipykernel)",
   "language": "python",
   "name": "python3"
  },
  "language_info": {
   "codemirror_mode": {
    "name": "ipython",
    "version": 3
   },
   "file_extension": ".py",
   "mimetype": "text/x-python",
   "name": "python",
   "nbconvert_exporter": "python",
   "pygments_lexer": "ipython3",
   "version": "3.9.12"
  }
 },
 "nbformat": 4,
 "nbformat_minor": 5
}
