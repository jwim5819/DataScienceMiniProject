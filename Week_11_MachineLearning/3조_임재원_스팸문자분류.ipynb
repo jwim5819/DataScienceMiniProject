{
 "cells": [
  {
   "cell_type": "markdown",
   "source": [
    "# <center><span style = \" font-size:2em;\">3조_임재원_스팸문자분류</span></center>\n",
    "---\n",
    "# 목차\n",
    "- 데이터 로딩 및 확인\n",
    "- 데이터 전처리 및 병합\n",
    "- 문자내용 전처리\n",
    "- 학습 / 테스트 데이터 분리\n",
    "- 모델 생성 및 확인\n",
    "- 외부데이터로 모델 검증\n",
    "- 아쉬웠던 점  \n",
    "\n",
    "# 데이터\n",
    "- SPAM 문자 데이터 : https://www.bigdata-policing.kr/product/view?product_id=PRDT_395(인피니그루 스팸 문자 데이터)\n",
    "- 정상 문자 데이터1 : https://www.data.go.kr/data/15077116/fileData.do(서울시 구청 행정문자 발송현황)\n",
    "- 정상 문자 데이터2 : https://www.data.go.kr/data/15089190/fileData.do(환경산업기술원 챗봇 대화세트)"
   ],
   "metadata": {
    "collapsed": false,
    "pycharm": {
     "name": "#%% md\n"
    }
   }
  },
  {
   "cell_type": "code",
   "execution_count": 2,
   "outputs": [],
   "source": [
    "# 모듈 로딩\n",
    "import numpy as np\n",
    "import pandas as pd\n",
    "import re\n",
    "import warnings\n",
    "from konlpy.tag import Kkma, Komoran, Okt\n",
    "from sklearn.feature_extraction.text import CountVectorizer\n",
    "from sklearn.feature_extraction.text import TfidfVectorizer\n",
    "from sklearn.preprocessing import LabelEncoder\n",
    "from sklearn.model_selection import train_test_split\n",
    "from sklearn.naive_bayes import MultinomialNB\n",
    "from sklearn.linear_model import LogisticRegression\n",
    "from sklearn.model_selection import GridSearchCV\n",
    "warnings.filterwarnings('ignore')"
   ],
   "metadata": {
    "collapsed": false,
    "pycharm": {
     "name": "#%%\n"
    }
   }
  },
  {
   "cell_type": "markdown",
   "metadata": {
    "pycharm": {
     "name": "#%% md\n"
    }
   },
   "source": [
    "# [1] 데이터 로딩 및 확인"
   ]
  },
  {
   "cell_type": "code",
   "execution_count": 3,
   "metadata": {
    "pycharm": {
     "name": "#%%\n"
    }
   },
   "outputs": [],
   "source": [
    "spam_1 = pd.read_csv(r'./data/spam/스팸문자내역1.csv', encoding='utf-8')\n",
    "spam_2 = pd.read_csv(r'./data/spam/스팸문자내역2.csv', encoding='utf-8')\n",
    "ham_1 = pd.read_csv(r'./data/ham/서울시 구청 재난문자 발송현황.csv', encoding='cp949')\n",
    "ham_2 = pd.read_csv(r'./data/ham/환경산업기술원 챗봇 대화세트 구성.csv', encoding='cp949')"
   ]
  },
  {
   "cell_type": "code",
   "execution_count": 4,
   "metadata": {
    "pycharm": {
     "name": "#%%\n"
    }
   },
   "outputs": [
    {
     "data": {
      "text/plain": "   index                                               text\n0      1  [국제발신]ifg@? 명절 *만 이벤진행ifg@ifg@? 최고의 메리트ifg@ifg...\n1      2  [국외발신]ifg@●빅토리●ifg@ifg@퇴근시간**분전ifg@뒷면이보일정도로ifg...\n2      3  [국제발신]ifg@오빠안녕하세요ifg@관리드렸던지수에요ifg@이번에도ifg@확실하게...\n3      4  [국제발신]ifg@ifg@VERTifg@ifg@처음 **%ifg@삼+삼ifg@**+...\n4      5  [국외발신]ifg@?그리스?ifg@이붼츄가넘쳐유~ifg@커피/치킨???ifg@항상감...",
      "text/html": "<div>\n<style scoped>\n    .dataframe tbody tr th:only-of-type {\n        vertical-align: middle;\n    }\n\n    .dataframe tbody tr th {\n        vertical-align: top;\n    }\n\n    .dataframe thead th {\n        text-align: right;\n    }\n</style>\n<table border=\"1\" class=\"dataframe\">\n  <thead>\n    <tr style=\"text-align: right;\">\n      <th></th>\n      <th>index</th>\n      <th>text</th>\n    </tr>\n  </thead>\n  <tbody>\n    <tr>\n      <th>0</th>\n      <td>1</td>\n      <td>[국제발신]ifg@? 명절 *만 이벤진행ifg@ifg@? 최고의 메리트ifg@ifg...</td>\n    </tr>\n    <tr>\n      <th>1</th>\n      <td>2</td>\n      <td>[국외발신]ifg@●빅토리●ifg@ifg@퇴근시간**분전ifg@뒷면이보일정도로ifg...</td>\n    </tr>\n    <tr>\n      <th>2</th>\n      <td>3</td>\n      <td>[국제발신]ifg@오빠안녕하세요ifg@관리드렸던지수에요ifg@이번에도ifg@확실하게...</td>\n    </tr>\n    <tr>\n      <th>3</th>\n      <td>4</td>\n      <td>[국제발신]ifg@ifg@VERTifg@ifg@처음 **%ifg@삼+삼ifg@**+...</td>\n    </tr>\n    <tr>\n      <th>4</th>\n      <td>5</td>\n      <td>[국외발신]ifg@?그리스?ifg@이붼츄가넘쳐유~ifg@커피/치킨???ifg@항상감...</td>\n    </tr>\n  </tbody>\n</table>\n</div>"
     },
     "execution_count": 4,
     "metadata": {},
     "output_type": "execute_result"
    }
   ],
   "source": [
    "spam_1.head(5)"
   ]
  },
  {
   "cell_type": "code",
   "execution_count": 5,
   "metadata": {
    "pycharm": {
     "name": "#%%\n"
    }
   },
   "outputs": [
    {
     "data": {
      "text/plain": "      연  월  일   시   분   지역                                               송출내용\n0  2021  2  1   9  46  강북구  [강북구청]확진자5명(620~624번)발생, 동선( www.gangbuk.go.kr...\n1  2021  2  1  10   0  노원구  [노원구청] 오늘(2.1.) 오전 확진자 2명 발생(1047~1048번). 역학조사...\n2  2021  2  1  10   0  광진구  [광진구청] 타지역(중랑구)확진자 관내 동선 알림.상호 공개된 업소 홈페이지( ha...\n3  2021  2  1  10   9  도봉구  [도봉구청] 2.1(월) 확진자 1명 발생(748번). 역학조사결과 이동동선 및 조...\n4  2021  2  1  10  13  성북구  [성북구청] 1020~1023번(4명) 확진자 발생. 거주지 방역 완료. 자세한 사...",
      "text/html": "<div>\n<style scoped>\n    .dataframe tbody tr th:only-of-type {\n        vertical-align: middle;\n    }\n\n    .dataframe tbody tr th {\n        vertical-align: top;\n    }\n\n    .dataframe thead th {\n        text-align: right;\n    }\n</style>\n<table border=\"1\" class=\"dataframe\">\n  <thead>\n    <tr style=\"text-align: right;\">\n      <th></th>\n      <th>연</th>\n      <th>월</th>\n      <th>일</th>\n      <th>시</th>\n      <th>분</th>\n      <th>지역</th>\n      <th>송출내용</th>\n    </tr>\n  </thead>\n  <tbody>\n    <tr>\n      <th>0</th>\n      <td>2021</td>\n      <td>2</td>\n      <td>1</td>\n      <td>9</td>\n      <td>46</td>\n      <td>강북구</td>\n      <td>[강북구청]확진자5명(620~624번)발생, 동선( www.gangbuk.go.kr...</td>\n    </tr>\n    <tr>\n      <th>1</th>\n      <td>2021</td>\n      <td>2</td>\n      <td>1</td>\n      <td>10</td>\n      <td>0</td>\n      <td>노원구</td>\n      <td>[노원구청] 오늘(2.1.) 오전 확진자 2명 발생(1047~1048번). 역학조사...</td>\n    </tr>\n    <tr>\n      <th>2</th>\n      <td>2021</td>\n      <td>2</td>\n      <td>1</td>\n      <td>10</td>\n      <td>0</td>\n      <td>광진구</td>\n      <td>[광진구청] 타지역(중랑구)확진자 관내 동선 알림.상호 공개된 업소 홈페이지( ha...</td>\n    </tr>\n    <tr>\n      <th>3</th>\n      <td>2021</td>\n      <td>2</td>\n      <td>1</td>\n      <td>10</td>\n      <td>9</td>\n      <td>도봉구</td>\n      <td>[도봉구청] 2.1(월) 확진자 1명 발생(748번). 역학조사결과 이동동선 및 조...</td>\n    </tr>\n    <tr>\n      <th>4</th>\n      <td>2021</td>\n      <td>2</td>\n      <td>1</td>\n      <td>10</td>\n      <td>13</td>\n      <td>성북구</td>\n      <td>[성북구청] 1020~1023번(4명) 확진자 발생. 거주지 방역 완료. 자세한 사...</td>\n    </tr>\n  </tbody>\n</table>\n</div>"
     },
     "execution_count": 5,
     "metadata": {},
     "output_type": "execute_result"
    }
   ],
   "source": [
    "ham_1.head(5)"
   ]
  },
  {
   "cell_type": "markdown",
   "metadata": {
    "pycharm": {
     "name": "#%% md\n"
    }
   },
   "source": [
    "# [2] 데이터 전처리 및 병합\n",
    "- text, target의 열을 가진 새로운 데이터프레임 생성\n",
    "- 불러온 데이터프레임에서 문자내역을 text열에 담고, target에 spam일 경우 1 / ham일 경우 0 지정\n",
    "### But, 스팸문자가 약 17000개, 정상문자가 2425개로 데이터의 불균형이 심각함\n",
    "- 스팸문자의 경우 비슷비슷한 경우가 많기때문에 스팸문자의 비율을 언더샘플링하여 정상문자와 비슷한 수로 맞춰줌"
   ]
  },
  {
   "cell_type": "code",
   "execution_count": 6,
   "metadata": {
    "pycharm": {
     "name": "#%%\n"
    }
   },
   "outputs": [],
   "source": [
    "# 새로운 데이터프레임 생성\n",
    "text_data = pd.DataFrame(columns=[['text', 'target']])\n",
    "\n",
    "# spam, ham 문자메세지 target 생성\n",
    "spam_1['target'] = 1\n",
    "spam_2['target'] = 1\n",
    "ham_1['target'] = 0\n",
    "ham_2['target'] = 0\n",
    "\n",
    "# concat준비\n",
    "spam_1.drop(['index'], axis=1, inplace=True)\n",
    "spam_2.drop(['index'], axis=1, inplace=True)\n",
    "ham_1.drop(ham_1.columns[0:6], axis=1, inplace=True)\n",
    "ham_2.drop(ham_2.columns[0:4], axis=1, inplace=True)\n",
    "ham_2.drop(ham_2.columns[1:7], axis=1, inplace=True)\n",
    "ham_1.rename(columns={'송출내용': 'text'}, inplace=True)\n",
    "ham_2.rename(columns={'답변내용(4,000자 이내) - 필수': 'text'}, inplace=True)\n",
    "spam_1 = spam_1.sample(n=1200, random_state=42)\n",
    "spam_2 = spam_2.sample(n=1200, random_state=42)\n",
    "\n",
    "# text_data에 병합\n",
    "text_data = pd.concat([spam_1, spam_2, ham_1, ham_2], ignore_index=True)"
   ]
  },
  {
   "cell_type": "code",
   "execution_count": 7,
   "metadata": {
    "pycharm": {
     "name": "#%%\n"
    }
   },
   "outputs": [
    {
     "data": {
      "text/plain": "                                                   text  target\n0     [국제발신]ifg@화요일지원금ifg@도착하였습니다ifg@코::드 - ***ifg@서...       1\n1     [국제발신]ifg@체리#**★타ifg@추억의당구장ifg@원바#투바#올과일ifg@**...       1\n2     [국외발신]ifg@새해엔좋은일만가득하세요ifg@적립 ***,***원ifg@ifg@l...       1\n3     [국외발신]ifg@카】강원ifg@ⓖ】마카오보다ifg@노】여기로오세요ifg@올구조대'...       1\n4     [국제발신]ifg@심심할때오세요ifg@시간잘~갑니다ifg@**.***원도줍니다ifg...       1\n...                                                 ...     ...\n4820  제품사후관리실에서는 환경표지등의 인증을 받지 아니하고 환경표지 등 또는 이와 유사한...       0\n4821  가능합니다. 다만, 기 인증 제품과 환경성 및 품질에 변동사항이 없다면(원료사용 내...       0\n4822  환경표지 홈페이지(http://el.keiti.re.kr) 홈 → 정보마당 → 서식...       0\n4823  파생제품 등록의 경우 현장심사나 시험의뢰를 진행하지 않으며, 서류심사를 통해 진행됩니다.       0\n4824  파생제품 등록의 경우 처리기간은 수수료 납부 후 15일 이내에 처리 됩니다. 다만,...       0\n\n[4825 rows x 2 columns]",
      "text/html": "<div>\n<style scoped>\n    .dataframe tbody tr th:only-of-type {\n        vertical-align: middle;\n    }\n\n    .dataframe tbody tr th {\n        vertical-align: top;\n    }\n\n    .dataframe thead th {\n        text-align: right;\n    }\n</style>\n<table border=\"1\" class=\"dataframe\">\n  <thead>\n    <tr style=\"text-align: right;\">\n      <th></th>\n      <th>text</th>\n      <th>target</th>\n    </tr>\n  </thead>\n  <tbody>\n    <tr>\n      <th>0</th>\n      <td>[국제발신]ifg@화요일지원금ifg@도착하였습니다ifg@코::드 - ***ifg@서...</td>\n      <td>1</td>\n    </tr>\n    <tr>\n      <th>1</th>\n      <td>[국제발신]ifg@체리#**★타ifg@추억의당구장ifg@원바#투바#올과일ifg@**...</td>\n      <td>1</td>\n    </tr>\n    <tr>\n      <th>2</th>\n      <td>[국외발신]ifg@새해엔좋은일만가득하세요ifg@적립 ***,***원ifg@ifg@l...</td>\n      <td>1</td>\n    </tr>\n    <tr>\n      <th>3</th>\n      <td>[국외발신]ifg@카】강원ifg@ⓖ】마카오보다ifg@노】여기로오세요ifg@올구조대'...</td>\n      <td>1</td>\n    </tr>\n    <tr>\n      <th>4</th>\n      <td>[국제발신]ifg@심심할때오세요ifg@시간잘~갑니다ifg@**.***원도줍니다ifg...</td>\n      <td>1</td>\n    </tr>\n    <tr>\n      <th>...</th>\n      <td>...</td>\n      <td>...</td>\n    </tr>\n    <tr>\n      <th>4820</th>\n      <td>제품사후관리실에서는 환경표지등의 인증을 받지 아니하고 환경표지 등 또는 이와 유사한...</td>\n      <td>0</td>\n    </tr>\n    <tr>\n      <th>4821</th>\n      <td>가능합니다. 다만, 기 인증 제품과 환경성 및 품질에 변동사항이 없다면(원료사용 내...</td>\n      <td>0</td>\n    </tr>\n    <tr>\n      <th>4822</th>\n      <td>환경표지 홈페이지(http://el.keiti.re.kr) 홈 → 정보마당 → 서식...</td>\n      <td>0</td>\n    </tr>\n    <tr>\n      <th>4823</th>\n      <td>파생제품 등록의 경우 현장심사나 시험의뢰를 진행하지 않으며, 서류심사를 통해 진행됩니다.</td>\n      <td>0</td>\n    </tr>\n    <tr>\n      <th>4824</th>\n      <td>파생제품 등록의 경우 처리기간은 수수료 납부 후 15일 이내에 처리 됩니다. 다만,...</td>\n      <td>0</td>\n    </tr>\n  </tbody>\n</table>\n<p>4825 rows × 2 columns</p>\n</div>"
     },
     "execution_count": 7,
     "metadata": {},
     "output_type": "execute_result"
    }
   ],
   "source": [
    "# 병합된 데이터 확인\n",
    "text_data"
   ]
  },
  {
   "cell_type": "code",
   "execution_count": 8,
   "metadata": {
    "pycharm": {
     "name": "#%%\n"
    }
   },
   "outputs": [
    {
     "data": {
      "text/plain": "0    2425\n1    2400\nName: target, dtype: int64"
     },
     "execution_count": 8,
     "metadata": {},
     "output_type": "execute_result"
    }
   ],
   "source": [
    "# value_counts()로 스팸, 정상문자의 수 확인\n",
    "text_data['target'].value_counts()"
   ]
  },
  {
   "cell_type": "markdown",
   "metadata": {
    "pycharm": {
     "name": "#%% md\n"
    }
   },
   "source": [
    "# [3] 문자내용 전처리\n",
    "- 영어와 특수문자 제거\n",
    "- konlpy를 통한 형태소 분리(명사만 추출)\n",
    "- Vectorizer를 통한 단어간 거리 수치화(문자를 계산가능한 정량적인 숫자로 바꿔주는 작업)"
   ]
  },
  {
   "cell_type": "code",
   "execution_count": 9,
   "metadata": {
    "pycharm": {
     "name": "#%%\n"
    }
   },
   "outputs": [],
   "source": [
    "# 영어와 특수문자 제거\n",
    "text_data['text'] = [re.sub('[^0-9가-힣]', '', s) for s in text_data['text']]"
   ]
  },
  {
   "cell_type": "code",
   "execution_count": 10,
   "metadata": {
    "pycharm": {
     "name": "#%%\n"
    }
   },
   "outputs": [],
   "source": [
    "# konlpy를 통한 형태소 분리(명사만 추출)\n",
    "x_data = text_data['text'].values\n",
    "y_data = text_data['target'].values\n",
    "\n",
    "for i, document in enumerate(x_data):\n",
    "    words = Okt().pos(document)\n",
    "    clean_words = []\n",
    "    for word, tag in words:\n",
    "        if tag in ['Noun']:\n",
    "            if len(word) > 1:\n",
    "                clean_words.append(word)\n",
    "    document = ' '.join(clean_words)\n",
    "    x_data[i] = document"
   ]
  },
  {
   "cell_type": "code",
   "execution_count": 11,
   "metadata": {
    "pycharm": {
     "name": "#%%\n"
    }
   },
   "outputs": [],
   "source": [
    "# Vectorizer를 통한 단어간 거리 수치화\n",
    "vectorizer = TfidfVectorizer()\n",
    "vectorizer.fit(x_data)\n",
    "x_data = vectorizer.transform(x_data)"
   ]
  },
  {
   "cell_type": "code",
   "execution_count": 12,
   "metadata": {
    "pycharm": {
     "name": "#%%\n"
    }
   },
   "outputs": [],
   "source": [
    "# target 라벨 인코딩\n",
    "le = LabelEncoder()\n",
    "le.fit(y_data)\n",
    "labels = le.classes_\n",
    "y_data = le.transform(y_data)"
   ]
  },
  {
   "cell_type": "markdown",
   "metadata": {
    "pycharm": {
     "name": "#%% md\n"
    }
   },
   "source": [
    "# [4] 학습 / 테스트 데이터 분리"
   ]
  },
  {
   "cell_type": "code",
   "execution_count": 13,
   "metadata": {
    "pycharm": {
     "name": "#%%\n"
    }
   },
   "outputs": [],
   "source": [
    "x_train, x_test, y_train, y_test = train_test_split(x_data, y_data, test_size=0.3, random_state=42, stratify=y_data)"
   ]
  },
  {
   "cell_type": "markdown",
   "metadata": {
    "pycharm": {
     "name": "#%% md\n"
    }
   },
   "source": [
    "# [5] 모델 생성 및 확인"
   ]
  },
  {
   "cell_type": "code",
   "execution_count": 14,
   "metadata": {
    "pycharm": {
     "name": "#%%\n"
    }
   },
   "outputs": [
    {
     "data": {
      "text/plain": "LogisticRegression()"
     },
     "execution_count": 14,
     "metadata": {},
     "output_type": "execute_result"
    }
   ],
   "source": [
    "# 모델 생성(MultinomialNB)\n",
    "model_1 = MultinomialNB()\n",
    "model_1.fit(x_train, y_train)\n",
    "\n",
    "# 모델 생성(LogisticRegression)\n",
    "model_2 = LogisticRegression()\n",
    "model_2.fit(x_train, y_train)"
   ]
  },
  {
   "cell_type": "code",
   "execution_count": 15,
   "metadata": {
    "pycharm": {
     "name": "#%%\n"
    }
   },
   "outputs": [
    {
     "name": "stdout",
     "output_type": "stream",
     "text": [
      "교차검증 score : 0.9979268025421872\n",
      "LogisticRegression 최적의 파라미터 모델 : MultinomialNB(alpha=0.1)\n"
     ]
    }
   ],
   "source": [
    "# Gridserach로 MultinomialNB 최적의 파라미터 확인, 교차검증 5회 실시\n",
    "paramsNB = {'alpha':[0.1, 0.5, 1, 5, 10]}\n",
    "\n",
    "grid = GridSearchCV(model_1, param_grid=paramsNB, scoring='accuracy', cv=5)\n",
    "grid.fit(x_train, y_train)\n",
    "print(f'교차검증 score : {grid.best_score_}')\n",
    "print(f'LogisticRegression 최적의 파라미터 모델 : {grid.best_estimator_}')"
   ]
  },
  {
   "cell_type": "code",
   "execution_count": 16,
   "metadata": {
    "pycharm": {
     "name": "#%%\n"
    }
   },
   "outputs": [
    {
     "name": "stdout",
     "output_type": "stream",
     "text": [
      "교차검증 score : 0.9991111111111112\n",
      "LogisticRegression 최적의 파라미터 모델 : LogisticRegression(C=5)\n"
     ]
    }
   ],
   "source": [
    "# Gridserach로 LogisticRegression 최적의 파라미터 확인, 교차검증 5회 실시\n",
    "paramsLR = {'penalty':['l2', 'l1'],\n",
    "         'C':[0.01, 0.1, 1, 5, 10]}\n",
    "\n",
    "grid = GridSearchCV(model_2, param_grid=paramsLR, scoring='accuracy', cv=5)\n",
    "grid.fit(x_train, y_train)\n",
    "print(f'교차검증 score : {grid.best_score_}')\n",
    "print(f'LogisticRegression 최적의 파라미터 모델 : {grid.best_estimator_}')"
   ]
  },
  {
   "cell_type": "code",
   "execution_count": 17,
   "metadata": {
    "pycharm": {
     "name": "#%%\n"
    }
   },
   "outputs": [
    {
     "data": {
      "text/plain": "LogisticRegression(C=5)"
     },
     "execution_count": 17,
     "metadata": {},
     "output_type": "execute_result"
    }
   ],
   "source": [
    "# 도출된 하이퍼 파라미터를 바탕으로 최적의 모델 생성\n",
    "model_1 = MultinomialNB(alpha=0.1)\n",
    "model_1.fit(x_train, y_train)\n",
    "\n",
    "model_2 = LogisticRegression(C=5)\n",
    "model_2.fit(x_train, y_train)"
   ]
  },
  {
   "cell_type": "code",
   "execution_count": 18,
   "metadata": {
    "pycharm": {
     "name": "#%%\n"
    }
   },
   "outputs": [
    {
     "name": "stdout",
     "output_type": "stream",
     "text": [
      "MultinomialNB train score : 1.0\n",
      "MultinomialNB test score : 0.9979281767955801\n",
      "LogisticRegression train score : 0.9994077583654131\n",
      "LogisticRegression train score : 0.9994077583654131\n"
     ]
    }
   ],
   "source": [
    "# 모델 스코어 확인\n",
    "print(f'MultinomialNB train score : {model_1.score(x_train, y_train)}')\n",
    "print(f'MultinomialNB test score : {model_1.score(x_test, y_test)}')\n",
    "\n",
    "print(f'LogisticRegression train score : {model_2.score(x_train, y_train)}')\n",
    "print(f'LogisticRegression train score : {model_2.score(x_train, y_train)}')"
   ]
  },
  {
   "cell_type": "markdown",
   "metadata": {
    "pycharm": {
     "name": "#%% md\n"
    }
   },
   "source": [
    "# [6] 외부 데이터로 모델 검증"
   ]
  },
  {
   "cell_type": "code",
   "execution_count": 19,
   "metadata": {
    "pycharm": {
     "name": "#%%\n"
    }
   },
   "outputs": [],
   "source": [
    "# 검증 함수 생성\n",
    "def predict_multinomial(temp_text):\n",
    "    global words, clean_words, word, tag\n",
    "    text = temp_text\n",
    "    words = Okt().pos(temp_text)\n",
    "    clean_words = []\n",
    "\n",
    "    for word, tag in words:\n",
    "        if tag in ['Noun']:\n",
    "            if len(word) > 1:\n",
    "                clean_words.append(word)\n",
    "    document = ' '.join(clean_words)\n",
    "    print(f'문자 내용 : {text}')\n",
    "    print(f'===========================================================')\n",
    "\n",
    "    x_test_temp = [document]\n",
    "    x_test_temp = vectorizer.transform(x_test_temp)\n",
    "\n",
    "    y_predict = model_1.predict(x_test_temp)\n",
    "    y_proba = model_1.predict_proba(x_test_temp)\n",
    "    print('MultinomialNB model 예측결과')\n",
    "    if labels[y_predict[0]] == 0:\n",
    "        print(f'정상 문자 입니다. / 스팸 문자일 확률 : {np.round(y_proba[0][-1], 4) * 100}%')\n",
    "    if labels[y_predict[0]] == 1:\n",
    "        print(f'스팸 문자 입니다. / 스팸 문자일 확률 : {np.round(y_proba[0][-1], 4) * 100}%')\n",
    "\n",
    "def predict_logistic(temp_text):\n",
    "    global words, clean_words, word, tag\n",
    "    words = Okt().pos(temp_text)\n",
    "    clean_words = []\n",
    "\n",
    "    for word, tag in words:\n",
    "        if tag in ['Noun']:\n",
    "            if len(word) > 1:\n",
    "                clean_words.append(word)\n",
    "    document = ' '.join(clean_words)\n",
    "    print('LogisticRegression model 예측결과')\n",
    "\n",
    "    x_test_temp = [document]\n",
    "    x_test_temp = vectorizer.transform(x_test_temp)\n",
    "\n",
    "    y_predict_2 = model_2.predict(x_test_temp)\n",
    "    y_proba_2 = model_2.predict_proba(x_test_temp)\n",
    "    if labels[y_predict_2[0]] == 0:\n",
    "        print(f'정상 문자 입니다. / 스팸 문자일 확률 : {np.round(y_proba_2[0][-1], 4) * 100}%')\n",
    "    if labels[y_predict_2[0]] == 1:\n",
    "        print(f'스팸 문자 입니다. / 스팸 문자일 확률 : {np.round(y_proba_2[0][-1], 4) * 100}%')"
   ]
  },
  {
   "cell_type": "markdown",
   "metadata": {
    "pycharm": {
     "name": "#%% md\n"
    }
   },
   "source": [
    "# 실제로 온 스팸문자 3개 테스트"
   ]
  },
  {
   "cell_type": "code",
   "execution_count": 20,
   "metadata": {
    "pycharm": {
     "name": "#%%\n"
    }
   },
   "outputs": [
    {
     "name": "stdout",
     "output_type": "stream",
     "text": [
      "문자 내용 : J컴퍼니 인터넷+(IP)TV 신규&교체 580,000 무료거부 080\n",
      "===========================================================\n",
      "MultinomialNB model 예측결과\n",
      "스팸 문자 입니다. / 스팸 문자일 확률 : 90.73%\n",
      "LogisticRegression model 예측결과\n",
      "스팸 문자 입니다. / 스팸 문자일 확률 : 73.03%\n"
     ]
    }
   ],
   "source": [
    "predict_multinomial('J컴퍼니 인터넷+(IP)TV 신규&교체 580,000 무료거부 080')\n",
    "predict_logistic('J컴퍼니 인터넷+(IP)TV 신규&교체 580,000 무료거부 080')"
   ]
  },
  {
   "cell_type": "code",
   "execution_count": 22,
   "metadata": {
    "pycharm": {
     "name": "#%%\n"
    }
   },
   "outputs": [
    {
     "name": "stdout",
     "output_type": "stream",
     "text": [
      "문자 내용 : ※여름 바다여행※ 현금 50,000으로 호캉스 즐기자 코드 999필수\n",
      "===========================================================\n",
      "MultinomialNB model 예측결과\n",
      "스팸 문자 입니다. / 스팸 문자일 확률 : 96.6%\n",
      "LogisticRegression model 예측결과\n",
      "스팸 문자 입니다. / 스팸 문자일 확률 : 74.67%\n"
     ]
    }
   ],
   "source": [
    "predict_multinomial('※여름 바다여행※ 현금 50,000으로 호캉스 즐기자 코드 999필수')\n",
    "predict_logistic('※여름 바다여행※ 현금 50,000으로 호캉스 즐기자 코드 999필수')"
   ]
  },
  {
   "cell_type": "code",
   "execution_count": 23,
   "metadata": {
    "pycharm": {
     "name": "#%%\n"
    }
   },
   "outputs": [
    {
     "name": "stdout",
     "output_type": "stream",
     "text": [
      "문자 내용 : ★루이★ 카진오 신규모~집 여러가지 혜택 활동.매일.월별 1:1 체계관리\n",
      "===========================================================\n",
      "MultinomialNB model 예측결과\n",
      "스팸 문자 입니다. / 스팸 문자일 확률 : 89.5%\n",
      "LogisticRegression model 예측결과\n",
      "스팸 문자 입니다. / 스팸 문자일 확률 : 55.96%\n"
     ]
    }
   ],
   "source": [
    "predict_multinomial('★루이★ 카진오 신규모~집 여러가지 혜택 활동.매일.월별 1:1 체계관리')\n",
    "predict_logistic('★루이★ 카진오 신규모~집 여러가지 혜택 활동.매일.월별 1:1 체계관리')"
   ]
  },
  {
   "cell_type": "markdown",
   "metadata": {
    "pycharm": {
     "name": "#%% md\n"
    }
   },
   "source": [
    "# 정상 문자 3개 테스트"
   ]
  },
  {
   "cell_type": "code",
   "execution_count": 24,
   "metadata": {
    "pycharm": {
     "name": "#%%\n"
    }
   },
   "outputs": [
    {
     "name": "stdout",
     "output_type": "stream",
     "text": [
      "문자 내용 : [대구광역시] 9월 8일 코로나 확진자 3931명(달서구 978, 북구 678, 수성구 558)\n",
      "===========================================================\n",
      "MultinomialNB model 예측결과\n",
      "정상 문자 입니다. / 스팸 문자일 확률 : 0.02%\n",
      "LogisticRegression model 예측결과\n",
      "정상 문자 입니다. / 스팸 문자일 확률 : 0.27%\n"
     ]
    }
   ],
   "source": [
    "predict_multinomial('[대구광역시] 9월 8일 코로나 확진자 3931명(달서구 978, 북구 678, 수성구 558)')\n",
    "predict_logistic('[대구광역시] 9월 8일 코로나 확진자 3931명(달서구 978, 북구 678, 수성구 558)')"
   ]
  },
  {
   "cell_type": "code",
   "execution_count": 26,
   "metadata": {
    "pycharm": {
     "name": "#%%\n"
    }
   },
   "outputs": [
    {
     "name": "stdout",
     "output_type": "stream",
     "text": [
      "문자 내용 : 날이 참 좋네요, 경북대학교에 사람이 많습니다.\n",
      "===========================================================\n",
      "MultinomialNB model 예측결과\n",
      "정상 문자 입니다. / 스팸 문자일 확률 : 13.3%\n",
      "LogisticRegression model 예측결과\n",
      "정상 문자 입니다. / 스팸 문자일 확률 : 43.85%\n"
     ]
    }
   ],
   "source": [
    "predict_multinomial('날이 참 좋네요, 경북대학교에 사람이 많습니다.')\n",
    "predict_logistic('날이 참 좋네요, 경북대학교에 사람이 많습니다.')"
   ]
  },
  {
   "cell_type": "code",
   "execution_count": 27,
   "metadata": {
    "pycharm": {
     "name": "#%%\n"
    }
   },
   "outputs": [
    {
     "name": "stdout",
     "output_type": "stream",
     "text": [
      "문자 내용 : [CJ대한통운 택배 배송 완료] 고객님의 상품이 배송 완료 되었습니다.\n",
      "===========================================================\n",
      "MultinomialNB model 예측결과\n",
      "스팸 문자 입니다. / 스팸 문자일 확률 : 97.99%\n",
      "LogisticRegression model 예측결과\n",
      "스팸 문자 입니다. / 스팸 문자일 확률 : 52.88%\n"
     ]
    }
   ],
   "source": [
    "predict_multinomial('[CJ대한통운 택배 배송 완료] 고객님의 상품이 배송 완료 되었습니다.')\n",
    "predict_logistic('[CJ대한통운 택배 배송 완료] 고객님의 상품이 배송 완료 되었습니다.')"
   ]
  },
  {
   "cell_type": "markdown",
   "metadata": {
    "pycharm": {
     "name": "#%% md\n"
    }
   },
   "source": [
    "# [7] 아쉬웠던 점\n",
    "- 스팸문자보다 정상문자의 데이터가 너무 작아서 스팸문자를 언더샘플링한 점\n",
    "- 정상문자를 다양하게 구하지 못해서 재난경보, 챗봇 답변만을 쓸수밖에 없었던 점 -> 그래서 일상 문자의 예측률이 떨어진다"
   ]
  },
  {
   "cell_type": "code",
   "execution_count": null,
   "metadata": {
    "pycharm": {
     "name": "#%%\n"
    }
   },
   "outputs": [],
   "source": []
  }
 ],
 "metadata": {
  "kernelspec": {
   "display_name": "Python 3 (ipykernel)",
   "language": "python",
   "name": "python3"
  },
  "language_info": {
   "codemirror_mode": {
    "name": "ipython",
    "version": 3
   },
   "file_extension": ".py",
   "mimetype": "text/x-python",
   "name": "python",
   "nbconvert_exporter": "python",
   "pygments_lexer": "ipython3",
   "version": "3.7.13"
  }
 },
 "nbformat": 4,
 "nbformat_minor": 1
}