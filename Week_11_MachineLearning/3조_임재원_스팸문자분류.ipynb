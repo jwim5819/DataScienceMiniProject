{
 "cells": [
  {
   "cell_type": "markdown",
   "source": [
    "# 3조_임재원_스팸문자분류\n",
    "---\n",
    "### 목차\n",
    "- 데이터 전처리\n",
    "- 모델 생성\n",
    "-"
   ],
   "metadata": {
    "collapsed": false,
    "pycharm": {
     "name": "#%% md\n"
    }
   }
  },
  {
   "cell_type": "code",
   "execution_count": 117,
   "outputs": [],
   "source": [
    "# 모듈 로딩\n",
    "import numpy as np\n",
    "import pandas as pd\n",
    "import re\n",
    "from konlpy.tag import Kkma, Komoran, Okt\n",
    "from sklearn.model_selection import train_test_split\n",
    "from sklearn.feature_extraction.text import CountVectorizer\n",
    "from sklearn.naive_bayes import MultinomialNB\n",
    "from sklearn.linear_model import LogisticRegression"
   ],
   "metadata": {
    "collapsed": false,
    "pycharm": {
     "name": "#%%\n"
    }
   }
  },
  {
   "cell_type": "markdown",
   "source": [
    "# [1] 데이터 로딩 및 확인"
   ],
   "metadata": {
    "collapsed": false,
    "pycharm": {
     "name": "#%% md\n"
    }
   }
  },
  {
   "cell_type": "code",
   "execution_count": 118,
   "outputs": [],
   "source": [
    "spam_1 = pd.read_csv(r'./data/spam/스팸문자내역1.csv', encoding='utf-8')\n",
    "spam_2 = pd.read_csv(r'./data/spam/스팸문자내역2.csv', encoding='utf-8')\n",
    "ham_1 = pd.read_csv(r'./data/ham/서울시 구청 재난문자 발송현황.csv', encoding='cp949')\n",
    "ham_2 = pd.read_csv(r'./data/ham/환경산업기술원 챗봇 대화세트 구성.csv', encoding='cp949')"
   ],
   "metadata": {
    "collapsed": false,
    "pycharm": {
     "name": "#%%\n"
    }
   }
  },
  {
   "cell_type": "code",
   "execution_count": 119,
   "outputs": [
    {
     "data": {
      "text/plain": "   index                                               text\n0      1  [국제발신]ifg@? 명절 *만 이벤진행ifg@ifg@? 최고의 메리트ifg@ifg...\n1      2  [국외발신]ifg@●빅토리●ifg@ifg@퇴근시간**분전ifg@뒷면이보일정도로ifg...\n2      3  [국제발신]ifg@오빠안녕하세요ifg@관리드렸던지수에요ifg@이번에도ifg@확실하게...\n3      4  [국제발신]ifg@ifg@VERTifg@ifg@처음 **%ifg@삼+삼ifg@**+...\n4      5  [국외발신]ifg@?그리스?ifg@이붼츄가넘쳐유~ifg@커피/치킨???ifg@항상감...",
      "text/html": "<div>\n<style scoped>\n    .dataframe tbody tr th:only-of-type {\n        vertical-align: middle;\n    }\n\n    .dataframe tbody tr th {\n        vertical-align: top;\n    }\n\n    .dataframe thead th {\n        text-align: right;\n    }\n</style>\n<table border=\"1\" class=\"dataframe\">\n  <thead>\n    <tr style=\"text-align: right;\">\n      <th></th>\n      <th>index</th>\n      <th>text</th>\n    </tr>\n  </thead>\n  <tbody>\n    <tr>\n      <th>0</th>\n      <td>1</td>\n      <td>[국제발신]ifg@? 명절 *만 이벤진행ifg@ifg@? 최고의 메리트ifg@ifg...</td>\n    </tr>\n    <tr>\n      <th>1</th>\n      <td>2</td>\n      <td>[국외발신]ifg@●빅토리●ifg@ifg@퇴근시간**분전ifg@뒷면이보일정도로ifg...</td>\n    </tr>\n    <tr>\n      <th>2</th>\n      <td>3</td>\n      <td>[국제발신]ifg@오빠안녕하세요ifg@관리드렸던지수에요ifg@이번에도ifg@확실하게...</td>\n    </tr>\n    <tr>\n      <th>3</th>\n      <td>4</td>\n      <td>[국제발신]ifg@ifg@VERTifg@ifg@처음 **%ifg@삼+삼ifg@**+...</td>\n    </tr>\n    <tr>\n      <th>4</th>\n      <td>5</td>\n      <td>[국외발신]ifg@?그리스?ifg@이붼츄가넘쳐유~ifg@커피/치킨???ifg@항상감...</td>\n    </tr>\n  </tbody>\n</table>\n</div>"
     },
     "execution_count": 119,
     "metadata": {},
     "output_type": "execute_result"
    }
   ],
   "source": [
    "spam_1.head(5)"
   ],
   "metadata": {
    "collapsed": false,
    "pycharm": {
     "name": "#%%\n"
    }
   }
  },
  {
   "cell_type": "code",
   "execution_count": 120,
   "outputs": [
    {
     "data": {
      "text/plain": "      연  월  일   시   분   지역                                               송출내용\n0  2021  2  1   9  46  강북구  [강북구청]확진자5명(620~624번)발생, 동선( www.gangbuk.go.kr...\n1  2021  2  1  10   0  노원구  [노원구청] 오늘(2.1.) 오전 확진자 2명 발생(1047~1048번). 역학조사...\n2  2021  2  1  10   0  광진구  [광진구청] 타지역(중랑구)확진자 관내 동선 알림.상호 공개된 업소 홈페이지( ha...\n3  2021  2  1  10   9  도봉구  [도봉구청] 2.1(월) 확진자 1명 발생(748번). 역학조사결과 이동동선 및 조...\n4  2021  2  1  10  13  성북구  [성북구청] 1020~1023번(4명) 확진자 발생. 거주지 방역 완료. 자세한 사...",
      "text/html": "<div>\n<style scoped>\n    .dataframe tbody tr th:only-of-type {\n        vertical-align: middle;\n    }\n\n    .dataframe tbody tr th {\n        vertical-align: top;\n    }\n\n    .dataframe thead th {\n        text-align: right;\n    }\n</style>\n<table border=\"1\" class=\"dataframe\">\n  <thead>\n    <tr style=\"text-align: right;\">\n      <th></th>\n      <th>연</th>\n      <th>월</th>\n      <th>일</th>\n      <th>시</th>\n      <th>분</th>\n      <th>지역</th>\n      <th>송출내용</th>\n    </tr>\n  </thead>\n  <tbody>\n    <tr>\n      <th>0</th>\n      <td>2021</td>\n      <td>2</td>\n      <td>1</td>\n      <td>9</td>\n      <td>46</td>\n      <td>강북구</td>\n      <td>[강북구청]확진자5명(620~624번)발생, 동선( www.gangbuk.go.kr...</td>\n    </tr>\n    <tr>\n      <th>1</th>\n      <td>2021</td>\n      <td>2</td>\n      <td>1</td>\n      <td>10</td>\n      <td>0</td>\n      <td>노원구</td>\n      <td>[노원구청] 오늘(2.1.) 오전 확진자 2명 발생(1047~1048번). 역학조사...</td>\n    </tr>\n    <tr>\n      <th>2</th>\n      <td>2021</td>\n      <td>2</td>\n      <td>1</td>\n      <td>10</td>\n      <td>0</td>\n      <td>광진구</td>\n      <td>[광진구청] 타지역(중랑구)확진자 관내 동선 알림.상호 공개된 업소 홈페이지( ha...</td>\n    </tr>\n    <tr>\n      <th>3</th>\n      <td>2021</td>\n      <td>2</td>\n      <td>1</td>\n      <td>10</td>\n      <td>9</td>\n      <td>도봉구</td>\n      <td>[도봉구청] 2.1(월) 확진자 1명 발생(748번). 역학조사결과 이동동선 및 조...</td>\n    </tr>\n    <tr>\n      <th>4</th>\n      <td>2021</td>\n      <td>2</td>\n      <td>1</td>\n      <td>10</td>\n      <td>13</td>\n      <td>성북구</td>\n      <td>[성북구청] 1020~1023번(4명) 확진자 발생. 거주지 방역 완료. 자세한 사...</td>\n    </tr>\n  </tbody>\n</table>\n</div>"
     },
     "execution_count": 120,
     "metadata": {},
     "output_type": "execute_result"
    }
   ],
   "source": [
    "ham_1.head(5)"
   ],
   "metadata": {
    "collapsed": false,
    "pycharm": {
     "name": "#%%\n"
    }
   }
  },
  {
   "cell_type": "markdown",
   "source": [
    "# [2] 데이터 전처리 및 병합\n",
    "- text, target의 열을 가진 새로운 데이터프레임 생성\n",
    "- 불러온 데이터프레임에서 문자내역을 text열에 담고, target에 spam일 경우 1 / ham일 경우 0 지정\n",
    "### But, 스팸문자가 약 17000개, 정상문자가 2425개로 데이터의 불균형이 심각함\n",
    "- 스팸문자의 경우 비슷비슷한 경우가 많기때문에 스팸문자의 비율을 언더샘플링하여 정상문자와 비슷한 수로 맞춰줌"
   ],
   "metadata": {
    "collapsed": false,
    "pycharm": {
     "name": "#%% md\n"
    }
   }
  },
  {
   "cell_type": "code",
   "execution_count": 121,
   "outputs": [],
   "source": [
    "# 새로운 데이터프레임 생성\n",
    "text_data = pd.DataFrame(columns=[['text', 'target']])\n",
    "\n",
    "# spam, ham 문자메세지 target 생성\n",
    "spam_1['target'] = 1\n",
    "spam_2['target'] = 1\n",
    "ham_1['target'] = 0\n",
    "ham_2['target'] = 0\n",
    "\n",
    "# concat준비\n",
    "spam_1.drop(['index'], axis=1, inplace=True)\n",
    "spam_2.drop(['index'], axis=1, inplace=True)\n",
    "ham_1.drop(ham_1.columns[0:6], axis=1, inplace=True)\n",
    "ham_2.drop(ham_2.columns[0:4], axis=1, inplace=True)\n",
    "ham_2.drop(ham_2.columns[1:7], axis=1, inplace=True)\n",
    "ham_1.rename(columns={'송출내용': 'text'}, inplace=True)\n",
    "ham_2.rename(columns={'답변내용(4,000자 이내) - 필수': 'text'}, inplace=True)\n",
    "spam_1 = spam_1.sample(n=1200, random_state=42)\n",
    "spam_2 = spam_2.sample(n=1200, random_state=42)\n",
    "\n",
    "# text_data에 병합\n",
    "text_data = pd.concat([spam_1, spam_2, ham_1, ham_2], ignore_index=True)"
   ],
   "metadata": {
    "collapsed": false,
    "pycharm": {
     "name": "#%%\n"
    }
   }
  },
  {
   "cell_type": "code",
   "execution_count": 122,
   "outputs": [
    {
     "data": {
      "text/plain": "                                                   text  target\n0     [국제발신]ifg@화요일지원금ifg@도착하였습니다ifg@코::드 - ***ifg@서...       1\n1     [국제발신]ifg@체리#**★타ifg@추억의당구장ifg@원바#투바#올과일ifg@**...       1\n2     [국외발신]ifg@새해엔좋은일만가득하세요ifg@적립 ***,***원ifg@ifg@l...       1\n3     [국외발신]ifg@카】강원ifg@ⓖ】마카오보다ifg@노】여기로오세요ifg@올구조대'...       1\n4     [국제발신]ifg@심심할때오세요ifg@시간잘~갑니다ifg@**.***원도줍니다ifg...       1\n...                                                 ...     ...\n4820  제품사후관리실에서는 환경표지등의 인증을 받지 아니하고 환경표지 등 또는 이와 유사한...       0\n4821  가능합니다. 다만, 기 인증 제품과 환경성 및 품질에 변동사항이 없다면(원료사용 내...       0\n4822  환경표지 홈페이지(http://el.keiti.re.kr) 홈 → 정보마당 → 서식...       0\n4823  파생제품 등록의 경우 현장심사나 시험의뢰를 진행하지 않으며, 서류심사를 통해 진행됩니다.       0\n4824  파생제품 등록의 경우 처리기간은 수수료 납부 후 15일 이내에 처리 됩니다. 다만,...       0\n\n[4825 rows x 2 columns]",
      "text/html": "<div>\n<style scoped>\n    .dataframe tbody tr th:only-of-type {\n        vertical-align: middle;\n    }\n\n    .dataframe tbody tr th {\n        vertical-align: top;\n    }\n\n    .dataframe thead th {\n        text-align: right;\n    }\n</style>\n<table border=\"1\" class=\"dataframe\">\n  <thead>\n    <tr style=\"text-align: right;\">\n      <th></th>\n      <th>text</th>\n      <th>target</th>\n    </tr>\n  </thead>\n  <tbody>\n    <tr>\n      <th>0</th>\n      <td>[국제발신]ifg@화요일지원금ifg@도착하였습니다ifg@코::드 - ***ifg@서...</td>\n      <td>1</td>\n    </tr>\n    <tr>\n      <th>1</th>\n      <td>[국제발신]ifg@체리#**★타ifg@추억의당구장ifg@원바#투바#올과일ifg@**...</td>\n      <td>1</td>\n    </tr>\n    <tr>\n      <th>2</th>\n      <td>[국외발신]ifg@새해엔좋은일만가득하세요ifg@적립 ***,***원ifg@ifg@l...</td>\n      <td>1</td>\n    </tr>\n    <tr>\n      <th>3</th>\n      <td>[국외발신]ifg@카】강원ifg@ⓖ】마카오보다ifg@노】여기로오세요ifg@올구조대'...</td>\n      <td>1</td>\n    </tr>\n    <tr>\n      <th>4</th>\n      <td>[국제발신]ifg@심심할때오세요ifg@시간잘~갑니다ifg@**.***원도줍니다ifg...</td>\n      <td>1</td>\n    </tr>\n    <tr>\n      <th>...</th>\n      <td>...</td>\n      <td>...</td>\n    </tr>\n    <tr>\n      <th>4820</th>\n      <td>제품사후관리실에서는 환경표지등의 인증을 받지 아니하고 환경표지 등 또는 이와 유사한...</td>\n      <td>0</td>\n    </tr>\n    <tr>\n      <th>4821</th>\n      <td>가능합니다. 다만, 기 인증 제품과 환경성 및 품질에 변동사항이 없다면(원료사용 내...</td>\n      <td>0</td>\n    </tr>\n    <tr>\n      <th>4822</th>\n      <td>환경표지 홈페이지(http://el.keiti.re.kr) 홈 → 정보마당 → 서식...</td>\n      <td>0</td>\n    </tr>\n    <tr>\n      <th>4823</th>\n      <td>파생제품 등록의 경우 현장심사나 시험의뢰를 진행하지 않으며, 서류심사를 통해 진행됩니다.</td>\n      <td>0</td>\n    </tr>\n    <tr>\n      <th>4824</th>\n      <td>파생제품 등록의 경우 처리기간은 수수료 납부 후 15일 이내에 처리 됩니다. 다만,...</td>\n      <td>0</td>\n    </tr>\n  </tbody>\n</table>\n<p>4825 rows × 2 columns</p>\n</div>"
     },
     "execution_count": 122,
     "metadata": {},
     "output_type": "execute_result"
    }
   ],
   "source": [
    "# 병합된 데이터 확인\n",
    "text_data"
   ],
   "metadata": {
    "collapsed": false,
    "pycharm": {
     "name": "#%%\n"
    }
   }
  },
  {
   "cell_type": "code",
   "execution_count": 123,
   "outputs": [
    {
     "data": {
      "text/plain": "0    2425\n1    2400\nName: target, dtype: int64"
     },
     "execution_count": 123,
     "metadata": {},
     "output_type": "execute_result"
    }
   ],
   "source": [
    "# value_counts()로 스팸, 정상문자의 수 확인\n",
    "text_data['target'].value_counts()"
   ],
   "metadata": {
    "collapsed": false,
    "pycharm": {
     "name": "#%%\n"
    }
   }
  },
  {
   "cell_type": "markdown",
   "source": [
    "# [3] 문자내용 전처리\n",
    "- 영어와 특수문자 제거\n",
    "- konlpy를 통한 텍스트 토큰화\n",
    "- 불필요한 단어들 제거\n",
    "- CountVectorizer를 통한 단어간 거리 수치화"
   ],
   "metadata": {
    "collapsed": false,
    "pycharm": {
     "name": "#%% md\n"
    }
   }
  },
  {
   "cell_type": "code",
   "execution_count": 124,
   "outputs": [],
   "source": [
    "# 영어와 특수문자 제거\n",
    "text_data['text'] = [re.sub('[^0-9가-힣]', '', s) for s in text_data['text']]"
   ],
   "metadata": {
    "collapsed": false,
    "pycharm": {
     "name": "#%%\n"
    }
   }
  },
  {
   "cell_type": "code",
   "execution_count": 125,
   "outputs": [
    {
     "name": "stderr",
     "output_type": "stream",
     "text": [
      "C:\\ProgramData\\Anaconda3\\envs\\EV_PY37\\lib\\site-packages\\ipykernel_launcher.py:6: VisibleDeprecationWarning: Creating an ndarray from ragged nested sequences (which is a list-or-tuple of lists-or-tuples-or ndarrays with different lengths or shapes) is deprecated. If you meant to do this, you must specify 'dtype=object' when creating the ndarray.\n",
      "  \n"
     ]
    },
    {
     "data": {
      "text/plain": "                                                      0  1\n0     [(국제, Noun), (발신, Noun), (화요일, Noun), (지, Josa...  1\n1     [(국제, Noun), (발, Noun), (신체, Noun), (리타, Noun)...  1\n2     [(국외, Noun), (발신, Noun), (새해, Noun), (엔, Josa)...  1\n3     [(국외, Noun), (발신, Noun), (카, Noun), (강원, Noun)...  1\n4     [(국제, Noun), (발신, Noun), (심심할, Adjective), (때,...  1\n...                                                 ... ..\n4820  [(제품, Noun), (사후관리, Noun), (실, Noun), (에서는, Jo...  0\n4821  [(가능합니다다만, Adjective), (기, Modifier), (인증, Nou...  0\n4822  [(환경, Noun), (표지, Noun), (홈페이지, Noun), (홈, Nou...  0\n4823  [(파생, Noun), (제품, Noun), (등록, Noun), (의, Josa)...  0\n4824  [(파생, Noun), (제품, Noun), (등록, Noun), (의, Josa)...  0\n\n[4825 rows x 2 columns]",
      "text/html": "<div>\n<style scoped>\n    .dataframe tbody tr th:only-of-type {\n        vertical-align: middle;\n    }\n\n    .dataframe tbody tr th {\n        vertical-align: top;\n    }\n\n    .dataframe thead th {\n        text-align: right;\n    }\n</style>\n<table border=\"1\" class=\"dataframe\">\n  <thead>\n    <tr style=\"text-align: right;\">\n      <th></th>\n      <th>0</th>\n      <th>1</th>\n    </tr>\n  </thead>\n  <tbody>\n    <tr>\n      <th>0</th>\n      <td>[(국제, Noun), (발신, Noun), (화요일, Noun), (지, Josa...</td>\n      <td>1</td>\n    </tr>\n    <tr>\n      <th>1</th>\n      <td>[(국제, Noun), (발, Noun), (신체, Noun), (리타, Noun)...</td>\n      <td>1</td>\n    </tr>\n    <tr>\n      <th>2</th>\n      <td>[(국외, Noun), (발신, Noun), (새해, Noun), (엔, Josa)...</td>\n      <td>1</td>\n    </tr>\n    <tr>\n      <th>3</th>\n      <td>[(국외, Noun), (발신, Noun), (카, Noun), (강원, Noun)...</td>\n      <td>1</td>\n    </tr>\n    <tr>\n      <th>4</th>\n      <td>[(국제, Noun), (발신, Noun), (심심할, Adjective), (때,...</td>\n      <td>1</td>\n    </tr>\n    <tr>\n      <th>...</th>\n      <td>...</td>\n      <td>...</td>\n    </tr>\n    <tr>\n      <th>4820</th>\n      <td>[(제품, Noun), (사후관리, Noun), (실, Noun), (에서는, Jo...</td>\n      <td>0</td>\n    </tr>\n    <tr>\n      <th>4821</th>\n      <td>[(가능합니다다만, Adjective), (기, Modifier), (인증, Nou...</td>\n      <td>0</td>\n    </tr>\n    <tr>\n      <th>4822</th>\n      <td>[(환경, Noun), (표지, Noun), (홈페이지, Noun), (홈, Nou...</td>\n      <td>0</td>\n    </tr>\n    <tr>\n      <th>4823</th>\n      <td>[(파생, Noun), (제품, Noun), (등록, Noun), (의, Josa)...</td>\n      <td>0</td>\n    </tr>\n    <tr>\n      <th>4824</th>\n      <td>[(파생, Noun), (제품, Noun), (등록, Noun), (의, Josa)...</td>\n      <td>0</td>\n    </tr>\n  </tbody>\n</table>\n<p>4825 rows × 2 columns</p>\n</div>"
     },
     "execution_count": 125,
     "metadata": {},
     "output_type": "execute_result"
    }
   ],
   "source": [
    "# konlpy를 통한 텍스트 토큰화\n",
    "tokenizer = Okt()\n",
    "train_divide = [(tokenizer.pos(x), y) for x, y in zip(text_data['text'], text_data['target'])]\n",
    "\n",
    "# 데이터 확인\n",
    "pd.DataFrame(np.array(train_divide))"
   ],
   "metadata": {
    "collapsed": false,
    "pycharm": {
     "name": "#%%\n"
    }
   }
  },
  {
   "cell_type": "code",
   "execution_count": 126,
   "outputs": [],
   "source": [
    "# 불필요한 단어들\n",
    "stopwords = ['을', '를', '이', '가', '은', '는', '국제', '발신']\n",
    "\n",
    "\n",
    "# 단어 제거 함수 생성\n",
    "def get_couple(words):\n",
    "    global stopwords\n",
    "    words = [x for x in words if x[0] not in stopwords]\n",
    "    lex_text = len(words)\n",
    "    for j in range(lex_text - 1):\n",
    "        yield words[j][0], words[j + 1][0]\n",
    "\n",
    "\n",
    "def get_couple2(words):\n",
    "    global stopwords\n",
    "    words = [x for x in words if x[0] not in stopwords]\n",
    "    lex_text = len(words)\n",
    "    for j in range(lex_text - 1):\n",
    "        yield words[j][0], words[j + 1][0]"
   ],
   "metadata": {
    "collapsed": false,
    "pycharm": {
     "name": "#%%\n"
    }
   }
  },
  {
   "cell_type": "code",
   "execution_count": 127,
   "outputs": [],
   "source": [
    "# 불필요한 단어 제거 후 text와 target 리스트 재생성\n",
    "text, target = [], []\n",
    "for lwords in train_divide:\n",
    "    target.append(lwords[1])\n",
    "    temp = []\n",
    "    for x, y in get_couple(lwords[0]):\n",
    "        temp.append(\"{}.{}\".format(x, y))\n",
    "    text.append(\" \".join(temp))"
   ],
   "metadata": {
    "collapsed": false,
    "pycharm": {
     "name": "#%%\n"
    }
   }
  },
  {
   "cell_type": "code",
   "execution_count": 128,
   "outputs": [],
   "source": [
    "# CountVectorizer를 통한 단어간 거리 수치화\n",
    "vec = CountVectorizer()\n",
    "vec.fit(text)\n",
    "vec_text = vec.transform(text).toarray()"
   ],
   "metadata": {
    "collapsed": false,
    "pycharm": {
     "name": "#%%\n"
    }
   }
  },
  {
   "cell_type": "markdown",
   "source": [
    "# [4] 학습 / 테스트 데이터 분리"
   ],
   "metadata": {
    "collapsed": false,
    "pycharm": {
     "name": "#%% md\n"
    }
   }
  },
  {
   "cell_type": "code",
   "execution_count": 129,
   "outputs": [],
   "source": [
    "train_X, test_X, train_y, test_y = train_test_split(vec_text, target, test_size=0.2, random_state=42)"
   ],
   "metadata": {
    "collapsed": false,
    "pycharm": {
     "name": "#%%\n"
    }
   }
  },
  {
   "cell_type": "code",
   "execution_count": 130,
   "outputs": [
    {
     "data": {
      "text/plain": "0.9740932642487047"
     },
     "execution_count": 130,
     "metadata": {},
     "output_type": "execute_result"
    }
   ],
   "source": [
    "m1 = MultinomialNB()\n",
    "m1.fit(train_X, train_y)\n",
    "m1.score(train_X, train_y)\n",
    "m1.score(test_X, test_y)"
   ],
   "metadata": {
    "collapsed": false,
    "pycharm": {
     "name": "#%%\n"
    }
   }
  },
  {
   "cell_type": "code",
   "execution_count": 137,
   "outputs": [],
   "source": [
    "text = '히어로의 과학 설명회 하루종일 설명할 수도 있어'\n",
    "text = [re.sub('[^0-9가-힣]', '', s) for s in text]\n",
    "text = ''.join(text)\n",
    "tokenizer = Okt()\n",
    "temp = [(tokenizer.pos(text), '0')]\n",
    "train_divide = train_divide + temp\n",
    "\n",
    "# 불필요한 단어 제거 후 text와 target 리스트 재생성\n",
    "text, target = [], []\n",
    "for lwords in train_divide:\n",
    "    target.append(lwords[1])\n",
    "    temp = []\n",
    "    for x, y in get_couple(lwords[0]):\n",
    "        temp.append(\"{}.{}\".format(x, y))\n",
    "    text.append(\" \".join(temp))\n",
    "\n",
    "# CountVectorizer를 통한 단어간 거리 수치화\n",
    "vec = CountVectorizer()\n",
    "vec.fit(text)\n",
    "vec_text = vec.transform(text).toarray()"
   ],
   "metadata": {
    "collapsed": false,
    "pycharm": {
     "name": "#%%\n"
    }
   }
  },
  {
   "cell_type": "code",
   "execution_count": 138,
   "outputs": [
    {
     "ename": "ValueError",
     "evalue": "X has 8389 features, but MultinomialNB is expecting 8386 features as input.",
     "output_type": "error",
     "traceback": [
      "\u001B[1;31m---------------------------------------------------------------------------\u001B[0m",
      "\u001B[1;31mValueError\u001B[0m                                Traceback (most recent call last)",
      "\u001B[1;32m~\\AppData\\Local\\Temp\\ipykernel_7396\\2984439072.py\u001B[0m in \u001B[0;36m<module>\u001B[1;34m\u001B[0m\n\u001B[1;32m----> 1\u001B[1;33m \u001B[0mm1\u001B[0m\u001B[1;33m.\u001B[0m\u001B[0mpredict\u001B[0m\u001B[1;33m(\u001B[0m\u001B[1;33m[\u001B[0m\u001B[0mvec_text\u001B[0m\u001B[1;33m[\u001B[0m\u001B[1;33m-\u001B[0m\u001B[1;36m1\u001B[0m\u001B[1;33m]\u001B[0m\u001B[1;33m]\u001B[0m\u001B[1;33m)\u001B[0m\u001B[1;33m\u001B[0m\u001B[1;33m\u001B[0m\u001B[0m\n\u001B[0m",
      "\u001B[1;32mC:\\ProgramData\\Anaconda3\\envs\\EV_PY37\\lib\\site-packages\\sklearn\\naive_bayes.py\u001B[0m in \u001B[0;36mpredict\u001B[1;34m(self, X)\u001B[0m\n\u001B[0;32m     80\u001B[0m         \"\"\"\n\u001B[0;32m     81\u001B[0m         \u001B[0mcheck_is_fitted\u001B[0m\u001B[1;33m(\u001B[0m\u001B[0mself\u001B[0m\u001B[1;33m)\u001B[0m\u001B[1;33m\u001B[0m\u001B[1;33m\u001B[0m\u001B[0m\n\u001B[1;32m---> 82\u001B[1;33m         \u001B[0mX\u001B[0m \u001B[1;33m=\u001B[0m \u001B[0mself\u001B[0m\u001B[1;33m.\u001B[0m\u001B[0m_check_X\u001B[0m\u001B[1;33m(\u001B[0m\u001B[0mX\u001B[0m\u001B[1;33m)\u001B[0m\u001B[1;33m\u001B[0m\u001B[1;33m\u001B[0m\u001B[0m\n\u001B[0m\u001B[0;32m     83\u001B[0m         \u001B[0mjll\u001B[0m \u001B[1;33m=\u001B[0m \u001B[0mself\u001B[0m\u001B[1;33m.\u001B[0m\u001B[0m_joint_log_likelihood\u001B[0m\u001B[1;33m(\u001B[0m\u001B[0mX\u001B[0m\u001B[1;33m)\u001B[0m\u001B[1;33m\u001B[0m\u001B[1;33m\u001B[0m\u001B[0m\n\u001B[0;32m     84\u001B[0m         \u001B[1;32mreturn\u001B[0m \u001B[0mself\u001B[0m\u001B[1;33m.\u001B[0m\u001B[0mclasses_\u001B[0m\u001B[1;33m[\u001B[0m\u001B[0mnp\u001B[0m\u001B[1;33m.\u001B[0m\u001B[0margmax\u001B[0m\u001B[1;33m(\u001B[0m\u001B[0mjll\u001B[0m\u001B[1;33m,\u001B[0m \u001B[0maxis\u001B[0m\u001B[1;33m=\u001B[0m\u001B[1;36m1\u001B[0m\u001B[1;33m)\u001B[0m\u001B[1;33m]\u001B[0m\u001B[1;33m\u001B[0m\u001B[1;33m\u001B[0m\u001B[0m\n",
      "\u001B[1;32mC:\\ProgramData\\Anaconda3\\envs\\EV_PY37\\lib\\site-packages\\sklearn\\naive_bayes.py\u001B[0m in \u001B[0;36m_check_X\u001B[1;34m(self, X)\u001B[0m\n\u001B[0;32m    517\u001B[0m     \u001B[1;32mdef\u001B[0m \u001B[0m_check_X\u001B[0m\u001B[1;33m(\u001B[0m\u001B[0mself\u001B[0m\u001B[1;33m,\u001B[0m \u001B[0mX\u001B[0m\u001B[1;33m)\u001B[0m\u001B[1;33m:\u001B[0m\u001B[1;33m\u001B[0m\u001B[1;33m\u001B[0m\u001B[0m\n\u001B[0;32m    518\u001B[0m         \u001B[1;34m\"\"\"Validate X, used only in predict* methods.\"\"\"\u001B[0m\u001B[1;33m\u001B[0m\u001B[1;33m\u001B[0m\u001B[0m\n\u001B[1;32m--> 519\u001B[1;33m         \u001B[1;32mreturn\u001B[0m \u001B[0mself\u001B[0m\u001B[1;33m.\u001B[0m\u001B[0m_validate_data\u001B[0m\u001B[1;33m(\u001B[0m\u001B[0mX\u001B[0m\u001B[1;33m,\u001B[0m \u001B[0maccept_sparse\u001B[0m\u001B[1;33m=\u001B[0m\u001B[1;34m\"csr\"\u001B[0m\u001B[1;33m,\u001B[0m \u001B[0mreset\u001B[0m\u001B[1;33m=\u001B[0m\u001B[1;32mFalse\u001B[0m\u001B[1;33m)\u001B[0m\u001B[1;33m\u001B[0m\u001B[1;33m\u001B[0m\u001B[0m\n\u001B[0m\u001B[0;32m    520\u001B[0m \u001B[1;33m\u001B[0m\u001B[0m\n\u001B[0;32m    521\u001B[0m     \u001B[1;32mdef\u001B[0m \u001B[0m_check_X_y\u001B[0m\u001B[1;33m(\u001B[0m\u001B[0mself\u001B[0m\u001B[1;33m,\u001B[0m \u001B[0mX\u001B[0m\u001B[1;33m,\u001B[0m \u001B[0my\u001B[0m\u001B[1;33m,\u001B[0m \u001B[0mreset\u001B[0m\u001B[1;33m=\u001B[0m\u001B[1;32mTrue\u001B[0m\u001B[1;33m)\u001B[0m\u001B[1;33m:\u001B[0m\u001B[1;33m\u001B[0m\u001B[1;33m\u001B[0m\u001B[0m\n",
      "\u001B[1;32mC:\\ProgramData\\Anaconda3\\envs\\EV_PY37\\lib\\site-packages\\sklearn\\base.py\u001B[0m in \u001B[0;36m_validate_data\u001B[1;34m(self, X, y, reset, validate_separately, **check_params)\u001B[0m\n\u001B[0;32m    583\u001B[0m \u001B[1;33m\u001B[0m\u001B[0m\n\u001B[0;32m    584\u001B[0m         \u001B[1;32mif\u001B[0m \u001B[1;32mnot\u001B[0m \u001B[0mno_val_X\u001B[0m \u001B[1;32mand\u001B[0m \u001B[0mcheck_params\u001B[0m\u001B[1;33m.\u001B[0m\u001B[0mget\u001B[0m\u001B[1;33m(\u001B[0m\u001B[1;34m\"ensure_2d\"\u001B[0m\u001B[1;33m,\u001B[0m \u001B[1;32mTrue\u001B[0m\u001B[1;33m)\u001B[0m\u001B[1;33m:\u001B[0m\u001B[1;33m\u001B[0m\u001B[1;33m\u001B[0m\u001B[0m\n\u001B[1;32m--> 585\u001B[1;33m             \u001B[0mself\u001B[0m\u001B[1;33m.\u001B[0m\u001B[0m_check_n_features\u001B[0m\u001B[1;33m(\u001B[0m\u001B[0mX\u001B[0m\u001B[1;33m,\u001B[0m \u001B[0mreset\u001B[0m\u001B[1;33m=\u001B[0m\u001B[0mreset\u001B[0m\u001B[1;33m)\u001B[0m\u001B[1;33m\u001B[0m\u001B[1;33m\u001B[0m\u001B[0m\n\u001B[0m\u001B[0;32m    586\u001B[0m \u001B[1;33m\u001B[0m\u001B[0m\n\u001B[0;32m    587\u001B[0m         \u001B[1;32mreturn\u001B[0m \u001B[0mout\u001B[0m\u001B[1;33m\u001B[0m\u001B[1;33m\u001B[0m\u001B[0m\n",
      "\u001B[1;32mC:\\ProgramData\\Anaconda3\\envs\\EV_PY37\\lib\\site-packages\\sklearn\\base.py\u001B[0m in \u001B[0;36m_check_n_features\u001B[1;34m(self, X, reset)\u001B[0m\n\u001B[0;32m    399\u001B[0m         \u001B[1;32mif\u001B[0m \u001B[0mn_features\u001B[0m \u001B[1;33m!=\u001B[0m \u001B[0mself\u001B[0m\u001B[1;33m.\u001B[0m\u001B[0mn_features_in_\u001B[0m\u001B[1;33m:\u001B[0m\u001B[1;33m\u001B[0m\u001B[1;33m\u001B[0m\u001B[0m\n\u001B[0;32m    400\u001B[0m             raise ValueError(\n\u001B[1;32m--> 401\u001B[1;33m                 \u001B[1;34mf\"X has {n_features} features, but {self.__class__.__name__} \"\u001B[0m\u001B[1;33m\u001B[0m\u001B[1;33m\u001B[0m\u001B[0m\n\u001B[0m\u001B[0;32m    402\u001B[0m                 \u001B[1;34mf\"is expecting {self.n_features_in_} features as input.\"\u001B[0m\u001B[1;33m\u001B[0m\u001B[1;33m\u001B[0m\u001B[0m\n\u001B[0;32m    403\u001B[0m             )\n",
      "\u001B[1;31mValueError\u001B[0m: X has 8389 features, but MultinomialNB is expecting 8386 features as input."
     ]
    }
   ],
   "source": [
    "m1.predict([vec_text[-1]])"
   ],
   "metadata": {
    "collapsed": false,
    "pycharm": {
     "name": "#%%\n"
    }
   }
  },
  {
   "cell_type": "code",
   "execution_count": 132,
   "outputs": [],
   "source": [],
   "metadata": {
    "collapsed": false,
    "pycharm": {
     "name": "#%%\n"
    }
   }
  }
 ],
 "metadata": {
  "kernelspec": {
   "display_name": "Python 3",
   "language": "python",
   "name": "python3"
  },
  "language_info": {
   "codemirror_mode": {
    "name": "ipython",
    "version": 2
   },
   "file_extension": ".py",
   "mimetype": "text/x-python",
   "name": "python",
   "nbconvert_exporter": "python",
   "pygments_lexer": "ipython2",
   "version": "2.7.6"
  }
 },
 "nbformat": 4,
 "nbformat_minor": 0
}